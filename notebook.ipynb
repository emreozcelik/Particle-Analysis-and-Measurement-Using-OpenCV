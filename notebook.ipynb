{
  "nbformat": 4,
  "nbformat_minor": 0,
  "metadata": {
    "colab": {
      "provenance": []
    },
    "kernelspec": {
      "name": "python3",
      "display_name": "Python 3"
    },
    "language_info": {
      "name": "python"
    }
  },
  "cells": [
    {
      "cell_type": "markdown",
      "source": [
        "# Image Preview\n"
      ],
      "metadata": {
        "id": "2u8xEJ3XDo_B"
      }
    },
    {
      "cell_type": "markdown",
      "source": [
        "The image is preprocessed in a photo editor to ensure the reference bars have uniform dimensions before analysis. Also, 475 pixels correspond to 1 meter in real-life measurements.\n",
        "\n"
      ],
      "metadata": {
        "id": "cUfDdjfyjPZZ"
      }
    },
    {
      "cell_type": "code",
      "execution_count": 388,
      "metadata": {
        "colab": {
          "base_uri": "https://localhost:8080/",
          "height": 712
        },
        "id": "JLc-FwU7-CSP",
        "outputId": "29dd087d-cd2b-4ac5-c3e1-220c532aee7b"
      },
      "outputs": [
        {
          "output_type": "display_data",
          "data": {
            "text/html": [
              ""
            ]
          },
          "metadata": {}
        }
      ],
      "source": [
        "import cv2\n",
        "import numpy as np\n",
        "import pandas as pd\n",
        "import matplotlib.pyplot as plt\n",
        "\n",
        "from google.colab import drive\n",
        "\n",
        "# Reference: 475 pixels equals 1 meter.\n",
        "factor = 1 / 475\n",
        "\n",
        "# Mount Google Drive and read the image.\n",
        "drive.mount(\"/content/drive\")\n",
        "img = cv2.imread('/content/drive/MyDrive/img.jpg')\n",
        "\n",
        "# Calculate the figure size.\n",
        "img_scale = 0.66\n",
        "dpi = plt.rcParams['figure.dpi']\n",
        "height, width, depth = img.shape\n",
        "figsize = (width * img_scale / float(dpi)), (height * img_scale / float(dpi))\n",
        "\n",
        "# Display the image.\n",
        "plt.figure(figsize = figsize)\n",
        "plt.axis('off')\n",
        "plt.imshow(img, 'gray')\n",
        "plt.show()"
      ]
    },
    {
      "cell_type": "markdown",
      "source": [
        "# Processed Image"
      ],
      "metadata": {
        "id": "XhQWWVvPDnnU"
      }
    },
    {
      "cell_type": "markdown",
      "source": [
        "By processing the image with techniques such as adjusting contrast and applying threshold functions, the image is enhanced, and the blobs are separated. Additionally, to improve detection with adaptiveThreshold, the image is inverted. This method yields very clear results, with most edges distinctly separated rather than blended.\n",
        "\n"
      ],
      "metadata": {
        "id": "8i6GtAHgjRFR"
      }
    },
    {
      "cell_type": "code",
      "source": [
        "# Create a copy of the original image and process the image to enhance detection.\n",
        "blob_img = img.copy()\n",
        "blob_img = cv2.cvtColor(blob_img, cv2.COLOR_RGB2GRAY)\n",
        "\n",
        "blob_img = cv2.morphologyEx(blob_img, cv2.MORPH_OPEN, np.ones((4, 4), np.uint8))\n",
        "blob_img = cv2.createCLAHE(4, (8, 8)).apply(blob_img)\n",
        "blob_img = cv2.bitwise_not(blob_img)\n",
        "blob_img = cv2.GaussianBlur(blob_img, (3, 3), 0)\n",
        "blob_img = cv2.adaptiveThreshold(blob_img, 255, cv2.ADAPTIVE_THRESH_GAUSSIAN_C, cv2.THRESH_BINARY_INV, 255, 3)\n",
        "ret, blob_img = cv2.threshold(blob_img, 127, 255, cv2.THRESH_BINARY + cv2.THRESH_OTSU)\n",
        "\n",
        "# Display the image.\n",
        "plt.figure(figsize = figsize)\n",
        "plt.axis('off')\n",
        "plt.imshow(blob_img, 'gray')\n",
        "plt.show()"
      ],
      "metadata": {
        "colab": {
          "base_uri": "https://localhost:8080/",
          "height": 695
        },
        "id": "9apnTeceDV7g",
        "outputId": "f17cc317-e8c5-44e0-e210-b1a7f334abda"
      },
      "execution_count": 389,
      "outputs": [
        {
          "output_type": "display_data",
          "data": {
            "text/html": [
              ""
            ]
          },
          "metadata": {}
        }
      ]
    },
    {
      "cell_type": "markdown",
      "source": [
        "# Contour Analysis and Data Export"
      ],
      "metadata": {
        "id": "nTYz29KFGyM1"
      }
    },
    {
      "cell_type": "markdown",
      "source": [
        "Lastly, the width, height, area, and diameter are calculated using contours. These values are then multiplied by the reference factor to ensure they are represented in meters rather than pixels.\n",
        "\n"
      ],
      "metadata": {
        "id": "AVxzoEAUjStY"
      }
    },
    {
      "cell_type": "code",
      "source": [
        "# Create a copy of the original image to draw contours on.\n",
        "contour_img = blob_img.copy()\n",
        "contour_img = cv2.cvtColor(contour_img, cv2.COLOR_GRAY2RGB)\n",
        "contours, hierarchy = cv2.findContours(blob_img, cv2.RETR_EXTERNAL, cv2.CHAIN_APPROX_SIMPLE)\n",
        "contours = [cnt for cnt in contours if cv2.contourArea(cnt) * factor * factor < 2]\n",
        "\n",
        "# Define column names for the DataFrame.\n",
        "columns = ['Index', 'Area', 'Diameter', 'Width', 'Height']\n",
        "df = pd.DataFrame(columns = columns)\n",
        "\n",
        "# Process each contour.\n",
        "for i, cnt in enumerate(contours):\n",
        "  moments = cv2.moments(cnt)\n",
        "\n",
        "  if moments[\"m00\"] != 0:\n",
        "    center, size, angle = cv2.minAreaRect(cnt)\n",
        "\n",
        "    cX = int(moments['m10'] / moments['m00'])\n",
        "    cY = int(moments['m01'] / moments['m00'])\n",
        "\n",
        "    contour_img = cv2.putText(contour_img, str(i), (cX - 16, cY), cv2.FONT_HERSHEY_SIMPLEX, 0.5, (0, 0, 0), 1)\n",
        "\n",
        "    area = cv2.contourArea(cnt) * factor * factor\n",
        "    diameter = np.sqrt(4 * cv2.contourArea(cnt) / np.pi) * factor\n",
        "    width = size[0] * factor\n",
        "    height = size[1] * factor\n",
        "\n",
        "    df.loc[len(df)] = (i, area, diameter, width, height)\n",
        "\n",
        "df['Index'] = df['Index'].astype(int)\n",
        "df = df.sort_values(by = ['Area'], ascending = False)\n",
        "\n",
        "# Display the image.\n",
        "plt.figure(figsize = figsize)\n",
        "plt.axis('off')\n",
        "plt.imshow(contour_img)\n",
        "plt.show()\n",
        "\n",
        "# Save the DataFrame to a CSV file and the image with contours to Google Drive.\n",
        "df.to_csv('/content/drive/MyDrive/data.csv', index = False)\n",
        "cv2.imwrite('/content/drive/MyDrive/capture.jpg', cv2.cvtColor(contour_img, cv2.COLOR_RGB2BGR))"
      ],
      "metadata": {
        "colab": {
          "base_uri": "https://localhost:8080/",
          "height": 712
        },
        "id": "gGoSeqkrG28H",
        "outputId": "0ccbaae5-e4e5-4a03-a402-eb3f7165e237"
      },
      "execution_count": 390,
      "outputs": [
        {
          "output_type": "display_data",
          "data": {
            "text/html": [
              ""
            ]
          },
          "metadata": {}
        }
      ]
    },
    {
      "cell_type": "markdown",
      "source": [
        "# Example Data"
      ],
      "metadata": {
        "id": "0384hlrtjYQB"
      }
    },
    {
      "cell_type": "markdown",
      "source": [
        "The table below shows the first 15 values sorted by area as an example. All values in the table are expressed in meters.\n",
        "\n"
      ],
      "metadata": {
        "id": "5qtmON-ljaNr"
      }
    },
    {
      "cell_type": "code",
      "source": [
        "df.head(15).style"
      ],
      "metadata": {
        "colab": {
          "base_uri": "https://localhost:8080/",
          "height": 520
        },
        "id": "YFCXaai3jaoX",
        "outputId": "e26f4cc2-8012-41dd-e12d-df6b194927d2"
      },
      "execution_count": 392,
      "outputs": [
        {
          "output_type": "execute_result",
          "data": {
            "text/plain": [
              "<pandas.io.formats.style.Styler at 0x7bb35b9a3010>"
            ],
            "text/html": [
              "<style type=\"text/css\">\n",
              "</style>\n",
              "<table id=\"T_497d1\" class=\"dataframe\">\n",
              "  <thead>\n",
              "    <tr>\n",
              "      <th class=\"blank level0\" >&nbsp;</th>\n",
              "      <th id=\"T_497d1_level0_col0\" class=\"col_heading level0 col0\" >Index</th>\n",
              "      <th id=\"T_497d1_level0_col1\" class=\"col_heading level0 col1\" >Area</th>\n",
              "      <th id=\"T_497d1_level0_col2\" class=\"col_heading level0 col2\" >Diameter</th>\n",
              "      <th id=\"T_497d1_level0_col3\" class=\"col_heading level0 col3\" >Width</th>\n",
              "      <th id=\"T_497d1_level0_col4\" class=\"col_heading level0 col4\" >Height</th>\n",
              "    </tr>\n",
              "  </thead>\n",
              "  <tbody>\n",
              "    <tr>\n",
              "      <th id=\"T_497d1_level0_row0\" class=\"row_heading level0 row0\" >280</th>\n",
              "      <td id=\"T_497d1_row0_col0\" class=\"data row0 col0\" >281</td>\n",
              "      <td id=\"T_497d1_row0_col1\" class=\"data row0 col1\" >0.137633</td>\n",
              "      <td id=\"T_497d1_row0_col2\" class=\"data row0 col2\" >0.418617</td>\n",
              "      <td id=\"T_497d1_row0_col3\" class=\"data row0 col3\" >0.744912</td>\n",
              "      <td id=\"T_497d1_row0_col4\" class=\"data row0 col4\" >0.324245</td>\n",
              "    </tr>\n",
              "    <tr>\n",
              "      <th id=\"T_497d1_level0_row1\" class=\"row_heading level0 row1\" >974</th>\n",
              "      <td id=\"T_497d1_row1_col0\" class=\"data row1 col0\" >979</td>\n",
              "      <td id=\"T_497d1_row1_col1\" class=\"data row1 col1\" >0.130156</td>\n",
              "      <td id=\"T_497d1_row1_col2\" class=\"data row1 col2\" >0.407087</td>\n",
              "      <td id=\"T_497d1_row1_col3\" class=\"data row1 col3\" >0.372150</td>\n",
              "      <td id=\"T_497d1_row1_col4\" class=\"data row1 col4\" >0.490536</td>\n",
              "    </tr>\n",
              "    <tr>\n",
              "      <th id=\"T_497d1_level0_row2\" class=\"row_heading level0 row2\" >495</th>\n",
              "      <td id=\"T_497d1_row2_col0\" class=\"data row2 col0\" >497</td>\n",
              "      <td id=\"T_497d1_row2_col1\" class=\"data row2 col1\" >0.104988</td>\n",
              "      <td id=\"T_497d1_row2_col2\" class=\"data row2 col2\" >0.365616</td>\n",
              "      <td id=\"T_497d1_row2_col3\" class=\"data row2 col3\" >0.516636</td>\n",
              "      <td id=\"T_497d1_row2_col4\" class=\"data row2 col4\" >0.301032</td>\n",
              "    </tr>\n",
              "    <tr>\n",
              "      <th id=\"T_497d1_level0_row3\" class=\"row_heading level0 row3\" >1346</th>\n",
              "      <td id=\"T_497d1_row3_col0\" class=\"data row3 col0\" >1351</td>\n",
              "      <td id=\"T_497d1_row3_col1\" class=\"data row3 col1\" >0.082427</td>\n",
              "      <td id=\"T_497d1_row3_col2\" class=\"data row3 col2\" >0.323958</td>\n",
              "      <td id=\"T_497d1_row3_col3\" class=\"data row3 col3\" >0.220892</td>\n",
              "      <td id=\"T_497d1_row3_col4\" class=\"data row3 col4\" >0.886015</td>\n",
              "    </tr>\n",
              "    <tr>\n",
              "      <th id=\"T_497d1_level0_row4\" class=\"row_heading level0 row4\" >438</th>\n",
              "      <td id=\"T_497d1_row4_col0\" class=\"data row4 col0\" >440</td>\n",
              "      <td id=\"T_497d1_row4_col1\" class=\"data row4 col1\" >0.072078</td>\n",
              "      <td id=\"T_497d1_row4_col2\" class=\"data row4 col2\" >0.302939</td>\n",
              "      <td id=\"T_497d1_row4_col3\" class=\"data row4 col3\" >0.573567</td>\n",
              "      <td id=\"T_497d1_row4_col4\" class=\"data row4 col4\" >0.274891</td>\n",
              "    </tr>\n",
              "    <tr>\n",
              "      <th id=\"T_497d1_level0_row5\" class=\"row_heading level0 row5\" >700</th>\n",
              "      <td id=\"T_497d1_row5_col0\" class=\"data row5 col0\" >703</td>\n",
              "      <td id=\"T_497d1_row5_col1\" class=\"data row5 col1\" >0.056503</td>\n",
              "      <td id=\"T_497d1_row5_col2\" class=\"data row5 col2\" >0.268220</td>\n",
              "      <td id=\"T_497d1_row5_col3\" class=\"data row5 col3\" >0.394971</td>\n",
              "      <td id=\"T_497d1_row5_col4\" class=\"data row5 col4\" >0.242350</td>\n",
              "    </tr>\n",
              "    <tr>\n",
              "      <th id=\"T_497d1_level0_row6\" class=\"row_heading level0 row6\" >620</th>\n",
              "      <td id=\"T_497d1_row6_col0\" class=\"data row6 col0\" >622</td>\n",
              "      <td id=\"T_497d1_row6_col1\" class=\"data row6 col1\" >0.050506</td>\n",
              "      <td id=\"T_497d1_row6_col2\" class=\"data row6 col2\" >0.253588</td>\n",
              "      <td id=\"T_497d1_row6_col3\" class=\"data row6 col3\" >0.174006</td>\n",
              "      <td id=\"T_497d1_row6_col4\" class=\"data row6 col4\" >0.414978</td>\n",
              "    </tr>\n",
              "    <tr>\n",
              "      <th id=\"T_497d1_level0_row7\" class=\"row_heading level0 row7\" >872</th>\n",
              "      <td id=\"T_497d1_row7_col0\" class=\"data row7 col0\" >877</td>\n",
              "      <td id=\"T_497d1_row7_col1\" class=\"data row7 col1\" >0.049850</td>\n",
              "      <td id=\"T_497d1_row7_col2\" class=\"data row7 col2\" >0.251936</td>\n",
              "      <td id=\"T_497d1_row7_col3\" class=\"data row7 col3\" >0.212366</td>\n",
              "      <td id=\"T_497d1_row7_col4\" class=\"data row7 col4\" >0.300306</td>\n",
              "    </tr>\n",
              "    <tr>\n",
              "      <th id=\"T_497d1_level0_row8\" class=\"row_heading level0 row8\" >829</th>\n",
              "      <td id=\"T_497d1_row8_col0\" class=\"data row8 col0\" >834</td>\n",
              "      <td id=\"T_497d1_row8_col1\" class=\"data row8 col1\" >0.040678</td>\n",
              "      <td id=\"T_497d1_row8_col2\" class=\"data row8 col2\" >0.227581</td>\n",
              "      <td id=\"T_497d1_row8_col3\" class=\"data row8 col3\" >0.204211</td>\n",
              "      <td id=\"T_497d1_row8_col4\" class=\"data row8 col4\" >0.252632</td>\n",
              "    </tr>\n",
              "    <tr>\n",
              "      <th id=\"T_497d1_level0_row9\" class=\"row_heading level0 row9\" >750</th>\n",
              "      <td id=\"T_497d1_row9_col0\" class=\"data row9 col0\" >754</td>\n",
              "      <td id=\"T_497d1_row9_col1\" class=\"data row9 col1\" >0.040361</td>\n",
              "      <td id=\"T_497d1_row9_col2\" class=\"data row9 col2\" >0.226693</td>\n",
              "      <td id=\"T_497d1_row9_col3\" class=\"data row9 col3\" >0.387873</td>\n",
              "      <td id=\"T_497d1_row9_col4\" class=\"data row9 col4\" >0.163618</td>\n",
              "    </tr>\n",
              "    <tr>\n",
              "      <th id=\"T_497d1_level0_row10\" class=\"row_heading level0 row10\" >1107</th>\n",
              "      <td id=\"T_497d1_row10_col0\" class=\"data row10 col0\" >1112</td>\n",
              "      <td id=\"T_497d1_row10_col1\" class=\"data row10 col1\" >0.038688</td>\n",
              "      <td id=\"T_497d1_row10_col2\" class=\"data row10 col2\" >0.221944</td>\n",
              "      <td id=\"T_497d1_row10_col3\" class=\"data row10 col3\" >0.320289</td>\n",
              "      <td id=\"T_497d1_row10_col4\" class=\"data row10 col4\" >0.168707</td>\n",
              "    </tr>\n",
              "    <tr>\n",
              "      <th id=\"T_497d1_level0_row11\" class=\"row_heading level0 row11\" >892</th>\n",
              "      <td id=\"T_497d1_row11_col0\" class=\"data row11 col0\" >897</td>\n",
              "      <td id=\"T_497d1_row11_col1\" class=\"data row11 col1\" >0.038280</td>\n",
              "      <td id=\"T_497d1_row11_col2\" class=\"data row11 col2\" >0.220771</td>\n",
              "      <td id=\"T_497d1_row11_col3\" class=\"data row11 col3\" >0.252911</td>\n",
              "      <td id=\"T_497d1_row11_col4\" class=\"data row11 col4\" >0.198764</td>\n",
              "    </tr>\n",
              "    <tr>\n",
              "      <th id=\"T_497d1_level0_row12\" class=\"row_heading level0 row12\" >1065</th>\n",
              "      <td id=\"T_497d1_row12_col0\" class=\"data row12 col0\" >1070</td>\n",
              "      <td id=\"T_497d1_row12_col1\" class=\"data row12 col1\" >0.037292</td>\n",
              "      <td id=\"T_497d1_row12_col2\" class=\"data row12 col2\" >0.217903</td>\n",
              "      <td id=\"T_497d1_row12_col3\" class=\"data row12 col3\" >0.279973</td>\n",
              "      <td id=\"T_497d1_row12_col4\" class=\"data row12 col4\" >0.167494</td>\n",
              "    </tr>\n",
              "    <tr>\n",
              "      <th id=\"T_497d1_level0_row13\" class=\"row_heading level0 row13\" >1080</th>\n",
              "      <td id=\"T_497d1_row13_col0\" class=\"data row13 col0\" >1085</td>\n",
              "      <td id=\"T_497d1_row13_col1\" class=\"data row13 col1\" >0.032658</td>\n",
              "      <td id=\"T_497d1_row13_col2\" class=\"data row13 col2\" >0.203916</td>\n",
              "      <td id=\"T_497d1_row13_col3\" class=\"data row13 col3\" >0.297303</td>\n",
              "      <td id=\"T_497d1_row13_col4\" class=\"data row13 col4\" >0.164053</td>\n",
              "    </tr>\n",
              "    <tr>\n",
              "      <th id=\"T_497d1_level0_row14\" class=\"row_heading level0 row14\" >365</th>\n",
              "      <td id=\"T_497d1_row14_col0\" class=\"data row14 col0\" >366</td>\n",
              "      <td id=\"T_497d1_row14_col1\" class=\"data row14 col1\" >0.031266</td>\n",
              "      <td id=\"T_497d1_row14_col2\" class=\"data row14 col2\" >0.199524</td>\n",
              "      <td id=\"T_497d1_row14_col3\" class=\"data row14 col3\" >0.201497</td>\n",
              "      <td id=\"T_497d1_row14_col4\" class=\"data row14 col4\" >0.214927</td>\n",
              "    </tr>\n",
              "  </tbody>\n",
              "</table>\n"
            ]
          },
          "metadata": {},
          "execution_count": 392
        }
      ]
    }
  ]
}
